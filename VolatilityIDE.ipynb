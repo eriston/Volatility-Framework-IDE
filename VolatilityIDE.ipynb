{
 "cells": [
  {
   "cell_type": "code",
   "execution_count": null,
   "metadata": {
    "collapsed": true
   },
   "outputs": [],
   "source": []
  },
  {
   "cell_type": "code",
   "execution_count": 1,
   "metadata": {
    "collapsed": false
   },
   "outputs": [
    {
     "name": "stdout",
     "output_type": "stream",
     "text": [
      "[Errno 2] No such file or directory: '/home/user/samples'\n",
      "/home/user/Desktop\n"
     ]
    }
   ],
   "source": [
    "# Written and tested with Volatility Framework 2.5 \n",
    "# with jupyter notebook fromAnaconda2 v4.2.0 for Linux-x86_64\n",
    "# running on Ubuntu 16.10\n",
    "\n",
    "%cd '/home/user/samples'\n",
    "\n",
    "! cp ~/.volatilityrc ~/.volatilityrc~$(date +%s)\n",
    "! echo '[DEFAULT]' > ~/.volatilityrc\n",
    "! echo 'PROFILE=LinuxUbuntu16045x64' >> ~/.volatilityrc \n",
    "! echo 'LOCATION=file:///home/user/samples/reddit.img' >> ~/.volatilityrc\n",
    "! echo 'PLUGINS=/home/user/volatility-master/contrib/plugins' >> ~/.volatilityrc\n",
    "\n",
    "vol = '/usr/bin/python2.7 /home/user/volatility-master/vol.py'\n",
    "\n",
    "def v(cmdString):\n",
    "    ! $vol + $cmdString\n",
    "    \n",
    "def runVolatilityQueue(queue):\n",
    "    for command in queue:\n",
    "        command = command.strip()\n",
    "        v(command)\n",
    "        print (\"\\n\\n#Done running _\"+str(command)+\"_\\n\")\n",
    "\n",
    "    print (\"\\n\\n-setup done-\")"
   ]
  },
  {
   "cell_type": "code",
   "execution_count": null,
   "metadata": {
    "collapsed": true
   },
   "outputs": [],
   "source": [
    "commandQueue = [\n",
    "     '  linux_cpuinfo',\n",
    "     '  linux_pslist',\n",
    "#    '  --info  ',\n",
    "#    '  linux_pslist  ',\n",
    "#    '  linux -h',\n",
    "#    '  linux_yarascan -h ',\n",
    "#    '  imageinfo     ',\n",
    "#    '  kdbgscan     ',\n",
    "#    '  vadtree     ',\n",
    "\n",
    "\n",
    "runVolatilityQueue(commandQueue)\n",
    "\n",
    "print(\"\\nDone Running\")"
   ]
  }
 ],
 "metadata": {
  "anaconda-cloud": {},
  "kernelspec": {
   "display_name": "Python 2",
   "language": "python",
   "name": "python2"
  },
  "language_info": {
   "codemirror_mode": {
    "name": "ipython",
    "version": 2
   },
   "file_extension": ".py",
   "mimetype": "text/x-python",
   "name": "python",
   "nbconvert_exporter": "python",
   "pygments_lexer": "ipython2",
   "version": "2.7.12"
  }
 },
 "nbformat": 4,
 "nbformat_minor": 1
}
